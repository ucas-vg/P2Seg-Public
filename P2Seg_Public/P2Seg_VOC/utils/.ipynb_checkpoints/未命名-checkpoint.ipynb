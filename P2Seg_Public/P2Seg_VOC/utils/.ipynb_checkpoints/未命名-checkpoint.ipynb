{
 "cells": [
  {
   "cell_type": "markdown",
   "id": "b10ce593-f123-4a67-8176-481ae414a033",
   "metadata": {
    "tags": []
   },
   "source": [
    "# 列表"
   ]
  },
  {
   "cell_type": "code",
   "execution_count": null,
   "id": "c3223733-1030-4b78-a0e1-8e983fd0e4ce",
   "metadata": {
    "tags": []
   },
   "outputs": [],
   "source": [
    "import operator\n",
    "a=[1,2]\n",
    "b=[1,2]\n",
    "operator.eq(a,b)"
   ]
  },
  {
   "cell_type": "code",
   "execution_count": 17,
   "id": "9390114f-14e0-4fe9-9706-f38b15b0c800",
   "metadata": {},
   "outputs": [
    {
     "name": "stdout",
     "output_type": "stream",
     "text": [
      "[1, 2, 1]\n"
     ]
    }
   ],
   "source": [
    "a.append(1)\n",
    "print(a)"
   ]
  },
  {
   "cell_type": "code",
   "execution_count": 18,
   "id": "3b5f48ce-024b-4ac1-8c5f-350203578667",
   "metadata": {},
   "outputs": [
    {
     "data": {
      "text/plain": [
       "2"
      ]
     },
     "execution_count": 18,
     "metadata": {},
     "output_type": "execute_result"
    }
   ],
   "source": [
    "a.count(1)"
   ]
  },
  {
   "cell_type": "code",
   "execution_count": 19,
   "id": "007bcc46-697f-4835-8180-87ccccf83a5d",
   "metadata": {},
   "outputs": [
    {
     "name": "stdout",
     "output_type": "stream",
     "text": [
      "[1, 2, 1, 1, 2]\n"
     ]
    }
   ],
   "source": [
    "a.extend(b)\n",
    "print(a)"
   ]
  },
  {
   "cell_type": "code",
   "execution_count": 20,
   "id": "b6e3c0b8-04db-4e0d-aba0-e0dc5dec9920",
   "metadata": {},
   "outputs": [
    {
     "name": "stdout",
     "output_type": "stream",
     "text": [
      "[1, 2, 1, 66, 1, 2]\n"
     ]
    }
   ],
   "source": [
    "a.insert(3,66)\n",
    "print(a)"
   ]
  },
  {
   "cell_type": "markdown",
   "id": "8e6dd10a-3270-4710-a81a-c91338c1baf6",
   "metadata": {},
   "source": [
    "## 对于层叠列表"
   ]
  },
  {
   "cell_type": "markdown",
   "id": "51fdf000-119b-44c7-bf78-cdda6ed21714",
   "metadata": {},
   "source": [
    "使用 insert 和 append 函数有一个非常特别之处，就是如果增加的是列表中的一个元素（子列表），则新增的元素初始只作为原元素的一个镜像，这时候如果修改原元素（子列表）中的一个子元素，则新增元素同样变化，修改新元素中的子元素也是如此。"
   ]
  },
  {
   "cell_type": "code",
   "execution_count": 29,
   "id": "f4dfc47d-8364-485f-bdcd-483577119d02",
   "metadata": {},
   "outputs": [
    {
     "name": "stdout",
     "output_type": "stream",
     "text": [
      "[[0, 1], [1, 2], [1, 2], [2, 3], [2, 3]]\n",
      "[[0, 1], [1, 0], [1, 0], [2, 4], [2, 4]]\n"
     ]
    }
   ],
   "source": [
    "a=[[0,1],[1,2],[2,3]]\n",
    "a.insert(2,a[1])\n",
    "a.append(a[3])\n",
    "print(a)\n",
    "a[1][1]=0\n",
    "a[4][1]=4\n",
    "print(a)"
   ]
  },
  {
   "cell_type": "code",
   "execution_count": 30,
   "id": "e66e3e16-e4fe-4080-9b86-8200af21bc47",
   "metadata": {},
   "outputs": [
    {
     "name": "stdout",
     "output_type": "stream",
     "text": [
      "[[0, 1], [1, 0], [5, 10], [2, 4], [2, 4]]\n"
     ]
    }
   ],
   "source": [
    "a[2]=[5,10]\n",
    "print(a)"
   ]
  },
  {
   "cell_type": "code",
   "execution_count": 31,
   "id": "f69b2f06-5cb5-43f5-8400-4ee0072302a2",
   "metadata": {},
   "outputs": [
    {
     "name": "stdout",
     "output_type": "stream",
     "text": [
      "[[0, 1], [1, 0], [5, 10], [2, 5], [2, 5]]\n"
     ]
    }
   ],
   "source": [
    "a[4][1]=5\n",
    "print(a)"
   ]
  },
  {
   "cell_type": "code",
   "execution_count": 32,
   "id": "29d17a67-5cde-466d-8fe1-d755c7edf80c",
   "metadata": {},
   "outputs": [
    {
     "name": "stdout",
     "output_type": "stream",
     "text": [
      "[[0, 1], [1, 0], [5, 10], [2, 5]]\n"
     ]
    }
   ],
   "source": [
    "a.pop(-2)\n",
    "print(a)"
   ]
  },
  {
   "cell_type": "markdown",
   "id": "f3ac24b2-3948-4d75-896d-a20e9a92914c",
   "metadata": {},
   "source": [
    "### 大批量删除列表中元素的方法（用pop remove del删除列表中的元素，id都不会发生变化）"
   ]
  },
  {
   "cell_type": "markdown",
   "id": "eed2832a-c45e-47f8-a4c9-12ec68024add",
   "metadata": {},
   "source": [
    "方法1"
   ]
  },
  {
   "cell_type": "code",
   "execution_count": 33,
   "id": "12a55025-3c78-494d-9dd1-afebb99098e7",
   "metadata": {},
   "outputs": [
    {
     "name": "stdout",
     "output_type": "stream",
     "text": [
      "['GiftCnt36', 'GiftCntAll', 'GiftCntCard36', 'GiftCntCardAll', 'GiftTimeLast', 'GiftTimeFirst', 'PromCntAll', 'PromCntCard36', 'PromCntCardAll', 'StatusCatStarAll', 'DemMedHomeValue', 'GiftAvgLast', 'GiftAvg36', 'GiftAvgAll', 'GiftAvgCard36']\n"
     ]
    }
   ],
   "source": [
    "var_c = [\"GiftCnt36\",\"GiftCntAll\",\"GiftCntCard36\",\"GiftCntCardAll\",\"GiftTimeLast\",\n",
    "         \"GiftTimeFirst\",\"PromCnt12\",\"PromCnt36\",\"PromCntAll\",\"PromCntCard12\",\n",
    "         \"PromCntCard36\",\"PromCntCardAll\",\"StatusCatStarAll\",\"DemAge\",\n",
    "         \"DemMedHomeValue\",\"DemPctVeterans\",\"DemMedIncome\",\"GiftAvgLast\",\n",
    "         \"GiftAvg36\",\"GiftAvgAll\",\"GiftAvgCard36\"]\n",
    "del_list=['PromCnt12','PromCnt36','PromCntCard12','DemAge','DemPctVeterans','DemMedIncome']\n",
    "var_c_s = var_c.copy()\n",
    "for i in del_list:\n",
    "    var_c_s.remove(i)\n",
    "print(var_c_s)"
   ]
  },
  {
   "cell_type": "markdown",
   "id": "94f416d1-750c-42b3-b39f-88e3a6a90155",
   "metadata": {},
   "source": [
    "方法2"
   ]
  },
  {
   "cell_type": "code",
   "execution_count": 36,
   "id": "a7f5b1c0-93a0-4772-bc1d-5ae69102959e",
   "metadata": {},
   "outputs": [
    {
     "name": "stdout",
     "output_type": "stream",
     "text": [
      "['GiftCntAll', 'GiftTimeFirst', 'PromCntCardAll', 'GiftAvg36', 'GiftAvgCard36', 'GiftAvgAll', 'GiftTimeLast', 'GiftCntCardAll', 'GiftCnt36', 'GiftAvgLast', 'GiftCntCard36', 'PromCntCard36', 'StatusCatStarAll', 'DemMedHomeValue', 'PromCntAll']\n"
     ]
    }
   ],
   "source": [
    "var_c_s1 = set(var_c)-set(del_list)\n",
    "var_c_s1 = list(var_c_s)\n",
    "print(var_c_s1)"
   ]
  },
  {
   "cell_type": "code",
   "execution_count": 40,
   "id": "3d852dc4-0c6a-4982-86a8-16df9fa85bee",
   "metadata": {},
   "outputs": [],
   "source": [
    "diff=list(set(var_c_s).difference(set(var_c_s1)))"
   ]
  },
  {
   "cell_type": "markdown",
   "id": "882f7c94-d62b-4f3a-9a38-e1cdac526833",
   "metadata": {},
   "source": [
    "list.sort(key = None, reverse = False)\n",
    "\n",
    "key      -- 主要是用来进行比较的元素，只有一个参数，具体的函数的参数就是取自于可迭代对象中，指定可迭代对象中的一个元素来进行排序。\n",
    "\n",
    "reverse  -- 排序规则，reverse = True 降序， reverse = False 升序（默认）。"
   ]
  },
  {
   "cell_type": "markdown",
   "id": "9c07b234-7c0c-4f1e-ac74-1f426ad1d345",
   "metadata": {},
   "source": [
    "### 通过指定列表中的元素排序来输出列表"
   ]
  },
  {
   "cell_type": "code",
   "execution_count": 42,
   "id": "d85ba452-f3cf-4362-8861-8796738a6390",
   "metadata": {},
   "outputs": [
    {
     "name": "stdout",
     "output_type": "stream",
     "text": [
      "排序列表： [(4, 1), (2, 2), (1, 3), (3, 4)]\n"
     ]
    }
   ],
   "source": [
    "#按照元素的第二项进行排序\n",
    "#!/usr/bin/python\n",
    " \n",
    "# 获取列表的第二个元素\n",
    "def takeSecond(elem):\n",
    "    return elem[1]\n",
    " \n",
    "# 列表\n",
    "a = [(2, 2), (3, 4), (4, 1), (1, 3)]\n",
    " \n",
    "# 指定第二个元素排序\n",
    "a.sort(key=takeSecond)\n",
    " \n",
    "# 输出类别\n",
    "print ('排序列表：', a)"
   ]
  },
  {
   "cell_type": "markdown",
   "id": "8d024990-81f1-4944-8fc5-4f30bb578558",
   "metadata": {},
   "source": [
    "### 根据列表中类对象的属性排序"
   ]
  },
  {
   "cell_type": "markdown",
   "id": "c0e63a1a-f5a7-4985-a2c6-db1a0ae7c286",
   "metadata": {},
   "source": [
    "由于 list.sort() 函数在排序时，使用的是小于号对比，所以自定义的数据类型需要 override __lt__(小于) 函数才能实现排序"
   ]
  },
  {
   "cell_type": "code",
   "execution_count": 44,
   "id": "9d7fa4e3-451d-45f9-bd31-e3d6f5c42a6b",
   "metadata": {},
   "outputs": [
    {
     "name": "stdout",
     "output_type": "stream",
     "text": [
      "id=01,name=jack\n",
      "id=120,name=tom\n",
      "id=130,name=json\n"
     ]
    }
   ],
   "source": [
    "class element(object):  \n",
    "    def __init__(self,id=\"\",name=\"\"):  \n",
    "        self.id=id  \n",
    "        self.name=name  \n",
    "    def __lt__(self, other): # override <操作符  \n",
    "        if self.id<other.id:  \n",
    "            return True  \n",
    "        return False  \n",
    "  \n",
    "    def __str__(self): # override __str__  \n",
    "        return \"id={0},name={1}\".format(self.id,self.name)  \n",
    "  \n",
    "list=[element(id=\"130\",name=\"json\"),element(id=\"01\",name=\"jack\"),element(id=\"120\",name=\"tom\")]  \n",
    "list.sort()  \n",
    "for item in list:  \n",
    "    print(item)"
   ]
  },
  {
   "cell_type": "markdown",
   "id": "fc155ab9-917f-4717-8753-8bc301365ace",
   "metadata": {},
   "source": [
    "### 根据列表中元素的长度排序"
   ]
  },
  {
   "cell_type": "code",
   "execution_count": 53,
   "id": "09a0dc5b-7b67-4539-a565-c09163044cf3",
   "metadata": {},
   "outputs": [
    {
     "name": "stdout",
     "output_type": "stream",
     "text": [
      "升序: ['c', 'C', 'c++', 'C++', 'delphi', 'Delphi', 'python', 'Python', 'golang', 'Golang']\n"
     ]
    }
   ],
   "source": [
    "list=[\"delphi\",\"Delphi\",\"python\",\"Python\",\"c++\",\"C++\",\"c\",\"C\",\"golang\",\"Golang\"]  \n",
    "list.sort(key=lambda ele:len(ele)) #按元素长度顺序升序排列  \n",
    "print(\"升序:\",list)  "
   ]
  },
  {
   "cell_type": "markdown",
   "id": "8c18d04f-073e-407b-b5b5-4976cc9a6bc9",
   "metadata": {},
   "source": [
    "### 动态的根据传入的元素索引进行排序"
   ]
  },
  {
   "cell_type": "code",
   "execution_count": 56,
   "id": "993b0dc0-a294-4078-88ed-f6c9ead03cb0",
   "metadata": {},
   "outputs": [
    {
     "name": "stdout",
     "output_type": "stream",
     "text": [
      "排序索引： 0 [['1', 'c++', 'demo'], ['1', 'c', 'test'], ['2', 'java', ''], ['4', 'python', 'gil'], ['5', 'swift', 'apple'], ['8', 'golang', 'google']]\n"
     ]
    }
   ],
   "source": [
    "def two_d_list_sort2(sort_index=\"0,1,2\"): # 动态的根据传入的元素索引进行排序  \n",
    "    list=[ [\"1\",\"c++\",\"demo\"],  \n",
    "           [\"1\",\"c\",\"test\"],  \n",
    "           [\"2\",\"java\",\"\"],  \n",
    "           [\"8\",\"golang\",\"google\"],  \n",
    "           [\"4\",\"python\",\"gil\"],  \n",
    "           [\"5\",\"swift\",\"apple\"]  \n",
    "           ]  \n",
    "    key_set=\"\"  \n",
    "    for item in sort_index.split(\",\"):  \n",
    "        key_set+=\"ele[\"+item+\"]+\" \n",
    "    key_set = key_set.rstrip(\"+\")# rstrip从末尾去除指定字符\n",
    "    list.sort(key=lambda ele:eval(key_set)) #eval 将字符串转换成python代码执行\n",
    "    print(\"排序索引：\", sort_index, list)\n",
    "\n",
    "if __name__==\"__main__\":  \n",
    "    two_d_list_sort2(\"0\")"
   ]
  },
  {
   "cell_type": "markdown",
   "id": "b2b7e257-e6ab-4ae4-8919-e2c4999e9255",
   "metadata": {},
   "source": [
    "### 元组中的元素值是不允许删除的，但我们可以使用del语句来删除整个元组。元组中的内容是不可以被修改的，但如果元组中有列表的话，列表中的内容是可以被修改的。如果想修改元组中的内容，可以先将元组转为list，从list里面改，再转回元组"
   ]
  },
  {
   "cell_type": "code",
   "execution_count": null,
   "id": "a5388b0f-86ef-4f3a-8a59-852f2ac18c11",
   "metadata": {},
   "outputs": [],
   "source": [
    ">>> a = (1,[3,2])\n",
    ">>> a[1][0] = 1\n",
    ">>> a\n",
    "(1, [1, 2])\n",
    ">>> a[1].append(3)\n",
    ">>> a\n",
    "(1, [1, 2, 3])\n",
    ">>> del a[1][2]\n",
    ">>> a\n",
    "(1, [1, 2])"
   ]
  },
  {
   "cell_type": "markdown",
   "id": "d33f2cfd-4de0-4b05-9c7c-e4bcc49292b7",
   "metadata": {},
   "source": [
    "### 嵌套字典使用\n",
    "get() 方法对嵌套字典的使用方法如下"
   ]
  },
  {
   "cell_type": "code",
   "execution_count": null,
   "id": "fdce66bc-7a79-4e4c-a97c-b405e16b52e6",
   "metadata": {},
   "outputs": [],
   "source": [
    "#!/usr/bin/python\n",
    "\n",
    "tinydict = {'RUNOOB' : {'url' : 'www.runoob.com'}}\n",
    "\n",
    "res = tinydict.get('RUNOOB', {}).get('url')\n",
    "# 输出结果\n",
    "print(\"RUNOOB url 为 : \", str(res))"
   ]
  },
  {
   "cell_type": "code",
   "execution_count": null,
   "id": "38d8d7ef-383b-4b8a-8984-53dd0271d894",
   "metadata": {},
   "outputs": [],
   "source": []
  },
  {
   "cell_type": "code",
   "execution_count": null,
   "id": "3870d52a-987f-4fff-a133-34f0500defa7",
   "metadata": {},
   "outputs": [],
   "source": []
  }
 ],
 "metadata": {
  "kernelspec": {
   "display_name": "Python 3",
   "language": "python",
   "name": "python3"
  },
  "language_info": {
   "codemirror_mode": {
    "name": "ipython",
    "version": 3
   },
   "file_extension": ".py",
   "mimetype": "text/x-python",
   "name": "python",
   "nbconvert_exporter": "python",
   "pygments_lexer": "ipython3",
   "version": "3.8.8"
  }
 },
 "nbformat": 4,
 "nbformat_minor": 5
}
