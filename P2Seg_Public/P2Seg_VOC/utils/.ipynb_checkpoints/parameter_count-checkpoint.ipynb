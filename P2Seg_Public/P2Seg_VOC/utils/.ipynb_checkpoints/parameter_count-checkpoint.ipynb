{
 "cells": [
  {
   "cell_type": "code",
   "execution_count": 33,
   "id": "dfffe6d5-df86-4f71-84c6-ff7dbaa001e6",
   "metadata": {},
   "outputs": [
    {
     "name": "stdout",
     "output_type": "stream",
     "text": [
      "总参数数量: 141.16M\n",
      "\n",
      "\n",
      "defaultdict(<class 'int'>, {'proposal_generator': 1184015, 'proposal_generator.rpn_head': 1184015, 'proposal_generator.rpn_head.conv': 1180160, 'proposal_generator.rpn_head.conv.conv0': 590080, 'proposal_generator.rpn_head.conv.conv0.weight': 589824, '': 141160990, 'proposal_generator.rpn_head.conv.conv0.bias': 256, 'proposal_generator.rpn_head.conv.conv1': 590080, 'proposal_generator.rpn_head.conv.conv1.weight': 589824, 'proposal_generator.rpn_head.conv.conv1.bias': 256, 'proposal_generator.rpn_head.objectness_logits': 771, 'proposal_generator.rpn_head.objectness_logits.weight': 768, 'proposal_generator.rpn_head.objectness_logits.bias': 3, 'proposal_generator.rpn_head.anchor_deltas': 3084, 'proposal_generator.rpn_head.anchor_deltas.weight': 3072, 'proposal_generator.rpn_head.anchor_deltas.bias': 12, 'roi_heads': 48527951, 'roi_heads.box_head': 45622272, 'roi_heads.box_head.0': 15207424, 'roi_heads.box_head.0.conv1': 590336, 'roi_heads.box_head.0.conv1.weight': 589824, 'roi_heads.box_head.0.conv1.norm': 512, 'roi_heads.box_head.0.conv1.norm.weight': 256, 'roi_heads.box_head.0.conv1.norm.bias': 256, 'roi_heads.box_head.0.conv2': 590336, 'roi_heads.box_head.0.conv2.weight': 589824, 'roi_heads.box_head.0.conv2.norm': 512, 'roi_heads.box_head.0.conv2.norm.weight': 256, 'roi_heads.box_head.0.conv2.norm.bias': 256, 'roi_heads.box_head.0.conv3': 590336, 'roi_heads.box_head.0.conv3.weight': 589824, 'roi_heads.box_head.0.conv3.norm': 512, 'roi_heads.box_head.0.conv3.norm.weight': 256, 'roi_heads.box_head.0.conv3.norm.bias': 256, 'roi_heads.box_head.0.conv4': 590336, 'roi_heads.box_head.0.conv4.weight': 589824, 'roi_heads.box_head.0.conv4.norm': 512, 'roi_heads.box_head.0.conv4.norm.weight': 256, 'roi_heads.box_head.0.conv4.norm.bias': 256, 'roi_heads.box_head.0.fc1': 12846080, 'roi_heads.box_head.0.fc1.weight': 12845056, 'roi_heads.box_head.0.fc1.bias': 1024, 'roi_heads.box_head.1': 15207424, 'roi_heads.box_head.1.conv1': 590336, 'roi_heads.box_head.1.conv1.weight': 589824, 'roi_heads.box_head.1.conv1.norm': 512, 'roi_heads.box_head.1.conv1.norm.weight': 256, 'roi_heads.box_head.1.conv1.norm.bias': 256, 'roi_heads.box_head.1.conv2': 590336, 'roi_heads.box_head.1.conv2.weight': 589824, 'roi_heads.box_head.1.conv2.norm': 512, 'roi_heads.box_head.1.conv2.norm.weight': 256, 'roi_heads.box_head.1.conv2.norm.bias': 256, 'roi_heads.box_head.1.conv3': 590336, 'roi_heads.box_head.1.conv3.weight': 589824, 'roi_heads.box_head.1.conv3.norm': 512, 'roi_heads.box_head.1.conv3.norm.weight': 256, 'roi_heads.box_head.1.conv3.norm.bias': 256, 'roi_heads.box_head.1.conv4': 590336, 'roi_heads.box_head.1.conv4.weight': 589824, 'roi_heads.box_head.1.conv4.norm': 512, 'roi_heads.box_head.1.conv4.norm.weight': 256, 'roi_heads.box_head.1.conv4.norm.bias': 256, 'roi_heads.box_head.1.fc1': 12846080, 'roi_heads.box_head.1.fc1.weight': 12845056, 'roi_heads.box_head.1.fc1.bias': 1024, 'roi_heads.box_head.2': 15207424, 'roi_heads.box_head.2.conv1': 590336, 'roi_heads.box_head.2.conv1.weight': 589824, 'roi_heads.box_head.2.conv1.norm': 512, 'roi_heads.box_head.2.conv1.norm.weight': 256, 'roi_heads.box_head.2.conv1.norm.bias': 256, 'roi_heads.box_head.2.conv2': 590336, 'roi_heads.box_head.2.conv2.weight': 589824, 'roi_heads.box_head.2.conv2.norm': 512, 'roi_heads.box_head.2.conv2.norm.weight': 256, 'roi_heads.box_head.2.conv2.norm.bias': 256, 'roi_heads.box_head.2.conv3': 590336, 'roi_heads.box_head.2.conv3.weight': 589824, 'roi_heads.box_head.2.conv3.norm': 512, 'roi_heads.box_head.2.conv3.norm.weight': 256, 'roi_heads.box_head.2.conv3.norm.bias': 256, 'roi_heads.box_head.2.conv4': 590336, 'roi_heads.box_head.2.conv4.weight': 589824, 'roi_heads.box_head.2.conv4.norm': 512, 'roi_heads.box_head.2.conv4.norm.weight': 256, 'roi_heads.box_head.2.conv4.norm.bias': 256, 'roi_heads.box_head.2.fc1': 12846080, 'roi_heads.box_head.2.fc1.weight': 12845056, 'roi_heads.box_head.2.fc1.bias': 1024, 'roi_heads.box_predictor': 261375, 'roi_heads.box_predictor.0': 87125, 'roi_heads.box_predictor.0.cls_score': 83025, 'roi_heads.box_predictor.0.cls_score.weight': 82944, 'roi_heads.box_predictor.0.cls_score.bias': 81, 'roi_heads.box_predictor.0.bbox_pred': 4100, 'roi_heads.box_predictor.0.bbox_pred.weight': 4096, 'roi_heads.box_predictor.0.bbox_pred.bias': 4, 'roi_heads.box_predictor.1': 87125, 'roi_heads.box_predictor.1.cls_score': 83025, 'roi_heads.box_predictor.1.cls_score.weight': 82944, 'roi_heads.box_predictor.1.cls_score.bias': 81, 'roi_heads.box_predictor.1.bbox_pred': 4100, 'roi_heads.box_predictor.1.bbox_pred.weight': 4096, 'roi_heads.box_predictor.1.bbox_pred.bias': 4, 'roi_heads.box_predictor.2': 87125, 'roi_heads.box_predictor.2.cls_score': 83025, 'roi_heads.box_predictor.2.cls_score.weight': 82944, 'roi_heads.box_predictor.2.cls_score.bias': 81, 'roi_heads.box_predictor.2.bbox_pred': 4100, 'roi_heads.box_predictor.2.bbox_pred.weight': 4096, 'roi_heads.box_predictor.2.bbox_pred.bias': 4, 'roi_heads.mask_head': 2644304, 'roi_heads.mask_head.mask_fcn1': 590336, 'roi_heads.mask_head.mask_fcn1.weight': 589824, 'roi_heads.mask_head.mask_fcn1.norm': 512, 'roi_heads.mask_head.mask_fcn1.norm.weight': 256, 'roi_heads.mask_head.mask_fcn1.norm.bias': 256, 'roi_heads.mask_head.mask_fcn2': 590336, 'roi_heads.mask_head.mask_fcn2.weight': 589824, 'roi_heads.mask_head.mask_fcn2.norm': 512, 'roi_heads.mask_head.mask_fcn2.norm.weight': 256, 'roi_heads.mask_head.mask_fcn2.norm.bias': 256, 'roi_heads.mask_head.mask_fcn3': 590336, 'roi_heads.mask_head.mask_fcn3.weight': 589824, 'roi_heads.mask_head.mask_fcn3.norm': 512, 'roi_heads.mask_head.mask_fcn3.norm.weight': 256, 'roi_heads.mask_head.mask_fcn3.norm.bias': 256, 'roi_heads.mask_head.mask_fcn4': 590336, 'roi_heads.mask_head.mask_fcn4.weight': 589824, 'roi_heads.mask_head.mask_fcn4.norm': 512, 'roi_heads.mask_head.mask_fcn4.norm.weight': 256, 'roi_heads.mask_head.mask_fcn4.norm.bias': 256, 'roi_heads.mask_head.deconv': 262400, 'roi_heads.mask_head.deconv.weight': 262144, 'roi_heads.mask_head.deconv.bias': 256, 'roi_heads.mask_head.predictor': 20560, 'roi_heads.mask_head.predictor.weight': 20480, 'roi_heads.mask_head.predictor.bias': 80, 'backbone': 91449024, 'backbone.simfp_2': 2115904, 'backbone.simfp_2.4': 49664, 'backbone.simfp_2.4.weight': 49152, 'backbone.simfp_2.4.norm': 512, 'backbone.simfp_2.4.norm.weight': 256, 'backbone.simfp_2.4.norm.bias': 256, 'backbone.simfp_2.5': 590336, 'backbone.simfp_2.5.weight': 589824, 'backbone.simfp_2.5.norm': 512, 'backbone.simfp_2.5.norm.weight': 256, 'backbone.simfp_2.5.norm.bias': 256, 'backbone.simfp_3': 1869184, 'backbone.simfp_3.1': 98816, 'backbone.simfp_3.1.weight': 98304, 'backbone.simfp_3.1.norm': 512, 'backbone.simfp_3.1.norm.weight': 256, 'backbone.simfp_3.1.norm.bias': 256, 'backbone.simfp_3.2': 590336, 'backbone.simfp_3.2.weight': 589824, 'backbone.simfp_3.2.norm': 512, 'backbone.simfp_3.2.norm.weight': 256, 'backbone.simfp_3.2.norm.bias': 256, 'backbone.simfp_4': 787456, 'backbone.simfp_4.0': 197120, 'backbone.simfp_4.0.weight': 196608, 'backbone.simfp_4.0.norm': 512, 'backbone.simfp_4.0.norm.weight': 256, 'backbone.simfp_4.0.norm.bias': 256, 'backbone.simfp_4.1': 590336, 'backbone.simfp_4.1.weight': 589824, 'backbone.simfp_4.1.norm': 512, 'backbone.simfp_4.1.norm.weight': 256, 'backbone.simfp_4.1.norm.bias': 256, 'backbone.simfp_5': 787456, 'backbone.simfp_5.1': 197120, 'backbone.simfp_5.1.weight': 196608, 'backbone.simfp_5.1.norm': 512, 'backbone.simfp_5.1.norm.weight': 256, 'backbone.simfp_5.1.norm.bias': 256, 'backbone.simfp_5.2': 590336, 'backbone.simfp_5.2.weight': 589824, 'backbone.simfp_5.2.norm': 512, 'backbone.simfp_5.2.norm.weight': 256, 'backbone.simfp_5.2.norm.bias': 256, 'backbone.net': 85889024, 'backbone.net.pos_embed': 151296, 'backbone.net.patch_embed': 590592, 'backbone.net.patch_embed.proj': 590592, 'backbone.net.patch_embed.proj.weight': 589824, 'backbone.net.patch_embed.proj.bias': 768, 'backbone.net.blocks': 85147136, 'backbone.net.blocks.0': 7091328, 'backbone.net.blocks.0.norm1': 1536, 'backbone.net.blocks.0.norm1.weight': 768, 'backbone.net.blocks.0.norm1.bias': 768, 'backbone.net.blocks.0.attn': 2365824, 'backbone.net.blocks.0.attn.rel_pos_h': 1728, 'backbone.net.blocks.0.attn.rel_pos_w': 1728, 'backbone.net.blocks.0.attn.qkv': 1771776, 'backbone.net.blocks.0.attn.qkv.weight': 1769472, 'backbone.net.blocks.0.attn.proj': 590592, 'backbone.net.blocks.0.attn.proj.weight': 589824, 'backbone.net.blocks.0.attn.proj.bias': 768, 'backbone.net.blocks.0.norm2': 1536, 'backbone.net.blocks.0.norm2.weight': 768, 'backbone.net.blocks.0.norm2.bias': 768, 'backbone.net.blocks.0.mlp': 4722432, 'backbone.net.blocks.0.mlp.fc1': 2362368, 'backbone.net.blocks.0.mlp.fc1.weight': 2359296, 'backbone.net.blocks.0.mlp.fc1.bias': 3072, 'backbone.net.blocks.0.mlp.fc2': 2360064, 'backbone.net.blocks.0.mlp.fc2.weight': 2359296, 'backbone.net.blocks.0.mlp.fc2.bias': 768, 'backbone.net.blocks.1': 7091328, 'backbone.net.blocks.1.norm1': 1536, 'backbone.net.blocks.1.norm1.weight': 768, 'backbone.net.blocks.1.norm1.bias': 768, 'backbone.net.blocks.1.attn': 2365824, 'backbone.net.blocks.1.attn.rel_pos_h': 1728, 'backbone.net.blocks.1.attn.rel_pos_w': 1728, 'backbone.net.blocks.1.attn.qkv': 1771776, 'backbone.net.blocks.1.attn.qkv.weight': 1769472, 'backbone.net.blocks.1.attn.proj': 590592, 'backbone.net.blocks.1.attn.proj.weight': 589824, 'backbone.net.blocks.1.attn.proj.bias': 768, 'backbone.net.blocks.1.norm2': 1536, 'backbone.net.blocks.1.norm2.weight': 768, 'backbone.net.blocks.1.norm2.bias': 768, 'backbone.net.blocks.1.mlp': 4722432, 'backbone.net.blocks.1.mlp.fc1': 2362368, 'backbone.net.blocks.1.mlp.fc1.weight': 2359296, 'backbone.net.blocks.1.mlp.fc1.bias': 3072, 'backbone.net.blocks.1.mlp.fc2': 2360064, 'backbone.net.blocks.1.mlp.fc2.weight': 2359296, 'backbone.net.blocks.1.mlp.fc2.bias': 768, 'backbone.net.blocks.2': 7104128, 'backbone.net.blocks.2.norm1': 1536, 'backbone.net.blocks.2.norm1.weight': 768, 'backbone.net.blocks.2.norm1.bias': 768, 'backbone.net.blocks.2.attn': 2378624, 'backbone.net.blocks.2.attn.rel_pos_h': 8128, 'backbone.net.blocks.2.attn.rel_pos_w': 8128, 'backbone.net.blocks.2.attn.qkv': 1771776, 'backbone.net.blocks.2.attn.qkv.weight': 1769472, 'backbone.net.blocks.2.attn.proj': 590592, 'backbone.net.blocks.2.attn.proj.weight': 589824, 'backbone.net.blocks.2.attn.proj.bias': 768, 'backbone.net.blocks.2.norm2': 1536, 'backbone.net.blocks.2.norm2.weight': 768, 'backbone.net.blocks.2.norm2.bias': 768, 'backbone.net.blocks.2.mlp': 4722432, 'backbone.net.blocks.2.mlp.fc1': 2362368, 'backbone.net.blocks.2.mlp.fc1.weight': 2359296, 'backbone.net.blocks.2.mlp.fc1.bias': 3072, 'backbone.net.blocks.2.mlp.fc2': 2360064, 'backbone.net.blocks.2.mlp.fc2.weight': 2359296, 'backbone.net.blocks.2.mlp.fc2.bias': 768, 'backbone.net.blocks.3': 7091328, 'backbone.net.blocks.3.norm1': 1536, 'backbone.net.blocks.3.norm1.weight': 768, 'backbone.net.blocks.3.norm1.bias': 768, 'backbone.net.blocks.3.attn': 2365824, 'backbone.net.blocks.3.attn.rel_pos_h': 1728, 'backbone.net.blocks.3.attn.rel_pos_w': 1728, 'backbone.net.blocks.3.attn.qkv': 1771776, 'backbone.net.blocks.3.attn.qkv.weight': 1769472, 'backbone.net.blocks.3.attn.proj': 590592, 'backbone.net.blocks.3.attn.proj.weight': 589824, 'backbone.net.blocks.3.attn.proj.bias': 768, 'backbone.net.blocks.3.norm2': 1536, 'backbone.net.blocks.3.norm2.weight': 768, 'backbone.net.blocks.3.norm2.bias': 768, 'backbone.net.blocks.3.mlp': 4722432, 'backbone.net.blocks.3.mlp.fc1': 2362368, 'backbone.net.blocks.3.mlp.fc1.weight': 2359296, 'backbone.net.blocks.3.mlp.fc1.bias': 3072, 'backbone.net.blocks.3.mlp.fc2': 2360064, 'backbone.net.blocks.3.mlp.fc2.weight': 2359296, 'backbone.net.blocks.3.mlp.fc2.bias': 768, 'backbone.net.blocks.4': 7091328, 'backbone.net.blocks.4.norm1': 1536, 'backbone.net.blocks.4.norm1.weight': 768, 'backbone.net.blocks.4.norm1.bias': 768, 'backbone.net.blocks.4.attn': 2365824, 'backbone.net.blocks.4.attn.rel_pos_h': 1728, 'backbone.net.blocks.4.attn.rel_pos_w': 1728, 'backbone.net.blocks.4.attn.qkv': 1771776, 'backbone.net.blocks.4.attn.qkv.weight': 1769472, 'backbone.net.blocks.4.attn.proj': 590592, 'backbone.net.blocks.4.attn.proj.weight': 589824, 'backbone.net.blocks.4.attn.proj.bias': 768, 'backbone.net.blocks.4.norm2': 1536, 'backbone.net.blocks.4.norm2.weight': 768, 'backbone.net.blocks.4.norm2.bias': 768, 'backbone.net.blocks.4.mlp': 4722432, 'backbone.net.blocks.4.mlp.fc1': 2362368, 'backbone.net.blocks.4.mlp.fc1.weight': 2359296, 'backbone.net.blocks.4.mlp.fc1.bias': 3072, 'backbone.net.blocks.4.mlp.fc2': 2360064, 'backbone.net.blocks.4.mlp.fc2.weight': 2359296, 'backbone.net.blocks.4.mlp.fc2.bias': 768, 'backbone.net.blocks.5': 7104128, 'backbone.net.blocks.5.norm1': 1536, 'backbone.net.blocks.5.norm1.weight': 768, 'backbone.net.blocks.5.norm1.bias': 768, 'backbone.net.blocks.5.attn': 2378624, 'backbone.net.blocks.5.attn.rel_pos_h': 8128, 'backbone.net.blocks.5.attn.rel_pos_w': 8128, 'backbone.net.blocks.5.attn.qkv': 1771776, 'backbone.net.blocks.5.attn.qkv.weight': 1769472, 'backbone.net.blocks.5.attn.proj': 590592, 'backbone.net.blocks.5.attn.proj.weight': 589824, 'backbone.net.blocks.5.attn.proj.bias': 768, 'backbone.net.blocks.5.norm2': 1536, 'backbone.net.blocks.5.norm2.weight': 768, 'backbone.net.blocks.5.norm2.bias': 768, 'backbone.net.blocks.5.mlp': 4722432, 'backbone.net.blocks.5.mlp.fc1': 2362368, 'backbone.net.blocks.5.mlp.fc1.weight': 2359296, 'backbone.net.blocks.5.mlp.fc1.bias': 3072, 'backbone.net.blocks.5.mlp.fc2': 2360064, 'backbone.net.blocks.5.mlp.fc2.weight': 2359296, 'backbone.net.blocks.5.mlp.fc2.bias': 768, 'backbone.net.blocks.6': 7091328, 'backbone.net.blocks.6.norm1': 1536, 'backbone.net.blocks.6.norm1.weight': 768, 'backbone.net.blocks.6.norm1.bias': 768, 'backbone.net.blocks.6.attn': 2365824, 'backbone.net.blocks.6.attn.rel_pos_h': 1728, 'backbone.net.blocks.6.attn.rel_pos_w': 1728, 'backbone.net.blocks.6.attn.qkv': 1771776, 'backbone.net.blocks.6.attn.qkv.weight': 1769472, 'backbone.net.blocks.6.attn.proj': 590592, 'backbone.net.blocks.6.attn.proj.weight': 589824, 'backbone.net.blocks.6.attn.proj.bias': 768, 'backbone.net.blocks.6.norm2': 1536, 'backbone.net.blocks.6.norm2.weight': 768, 'backbone.net.blocks.6.norm2.bias': 768, 'backbone.net.blocks.6.mlp': 4722432, 'backbone.net.blocks.6.mlp.fc1': 2362368, 'backbone.net.blocks.6.mlp.fc1.weight': 2359296, 'backbone.net.blocks.6.mlp.fc1.bias': 3072, 'backbone.net.blocks.6.mlp.fc2': 2360064, 'backbone.net.blocks.6.mlp.fc2.weight': 2359296, 'backbone.net.blocks.6.mlp.fc2.bias': 768, 'backbone.net.blocks.7': 7091328, 'backbone.net.blocks.7.norm1': 1536, 'backbone.net.blocks.7.norm1.weight': 768, 'backbone.net.blocks.7.norm1.bias': 768, 'backbone.net.blocks.7.attn': 2365824, 'backbone.net.blocks.7.attn.rel_pos_h': 1728, 'backbone.net.blocks.7.attn.rel_pos_w': 1728, 'backbone.net.blocks.7.attn.qkv': 1771776, 'backbone.net.blocks.7.attn.qkv.weight': 1769472, 'backbone.net.blocks.7.attn.proj': 590592, 'backbone.net.blocks.7.attn.proj.weight': 589824, 'backbone.net.blocks.7.attn.proj.bias': 768, 'backbone.net.blocks.7.norm2': 1536, 'backbone.net.blocks.7.norm2.weight': 768, 'backbone.net.blocks.7.norm2.bias': 768, 'backbone.net.blocks.7.mlp': 4722432, 'backbone.net.blocks.7.mlp.fc1': 2362368, 'backbone.net.blocks.7.mlp.fc1.weight': 2359296, 'backbone.net.blocks.7.mlp.fc1.bias': 3072, 'backbone.net.blocks.7.mlp.fc2': 2360064, 'backbone.net.blocks.7.mlp.fc2.weight': 2359296, 'backbone.net.blocks.7.mlp.fc2.bias': 768, 'backbone.net.blocks.8': 7104128, 'backbone.net.blocks.8.norm1': 1536, 'backbone.net.blocks.8.norm1.weight': 768, 'backbone.net.blocks.8.norm1.bias': 768, 'backbone.net.blocks.8.attn': 2378624, 'backbone.net.blocks.8.attn.rel_pos_h': 8128, 'backbone.net.blocks.8.attn.rel_pos_w': 8128, 'backbone.net.blocks.8.attn.qkv': 1771776, 'backbone.net.blocks.8.attn.qkv.weight': 1769472, 'backbone.net.blocks.8.attn.proj': 590592, 'backbone.net.blocks.8.attn.proj.weight': 589824, 'backbone.net.blocks.8.attn.proj.bias': 768, 'backbone.net.blocks.8.norm2': 1536, 'backbone.net.blocks.8.norm2.weight': 768, 'backbone.net.blocks.8.norm2.bias': 768, 'backbone.net.blocks.8.mlp': 4722432, 'backbone.net.blocks.8.mlp.fc1': 2362368, 'backbone.net.blocks.8.mlp.fc1.weight': 2359296, 'backbone.net.blocks.8.mlp.fc1.bias': 3072, 'backbone.net.blocks.8.mlp.fc2': 2360064, 'backbone.net.blocks.8.mlp.fc2.weight': 2359296, 'backbone.net.blocks.8.mlp.fc2.bias': 768, 'backbone.net.blocks.9': 7091328, 'backbone.net.blocks.9.norm1': 1536, 'backbone.net.blocks.9.norm1.weight': 768, 'backbone.net.blocks.9.norm1.bias': 768, 'backbone.net.blocks.9.attn': 2365824, 'backbone.net.blocks.9.attn.rel_pos_h': 1728, 'backbone.net.blocks.9.attn.rel_pos_w': 1728, 'backbone.net.blocks.9.attn.qkv': 1771776, 'backbone.net.blocks.9.attn.qkv.weight': 1769472, 'backbone.net.blocks.9.attn.proj': 590592, 'backbone.net.blocks.9.attn.proj.weight': 589824, 'backbone.net.blocks.9.attn.proj.bias': 768, 'backbone.net.blocks.9.norm2': 1536, 'backbone.net.blocks.9.norm2.weight': 768, 'backbone.net.blocks.9.norm2.bias': 768, 'backbone.net.blocks.9.mlp': 4722432, 'backbone.net.blocks.9.mlp.fc1': 2362368, 'backbone.net.blocks.9.mlp.fc1.weight': 2359296, 'backbone.net.blocks.9.mlp.fc1.bias': 3072, 'backbone.net.blocks.9.mlp.fc2': 2360064, 'backbone.net.blocks.9.mlp.fc2.weight': 2359296, 'backbone.net.blocks.9.mlp.fc2.bias': 768, 'backbone.net.blocks.10': 7091328, 'backbone.net.blocks.10.norm1': 1536, 'backbone.net.blocks.10.norm1.weight': 768, 'backbone.net.blocks.10.norm1.bias': 768, 'backbone.net.blocks.10.attn': 2365824, 'backbone.net.blocks.10.attn.rel_pos_h': 1728, 'backbone.net.blocks.10.attn.rel_pos_w': 1728, 'backbone.net.blocks.10.attn.qkv': 1771776, 'backbone.net.blocks.10.attn.qkv.weight': 1769472, 'backbone.net.blocks.10.attn.proj': 590592, 'backbone.net.blocks.10.attn.proj.weight': 589824, 'backbone.net.blocks.10.attn.proj.bias': 768, 'backbone.net.blocks.10.norm2': 1536, 'backbone.net.blocks.10.norm2.weight': 768, 'backbone.net.blocks.10.norm2.bias': 768, 'backbone.net.blocks.10.mlp': 4722432, 'backbone.net.blocks.10.mlp.fc1': 2362368, 'backbone.net.blocks.10.mlp.fc1.weight': 2359296, 'backbone.net.blocks.10.mlp.fc1.bias': 3072, 'backbone.net.blocks.10.mlp.fc2': 2360064, 'backbone.net.blocks.10.mlp.fc2.weight': 2359296, 'backbone.net.blocks.10.mlp.fc2.bias': 768, 'backbone.net.blocks.11': 7104128, 'backbone.net.blocks.11.norm1': 1536, 'backbone.net.blocks.11.norm1.weight': 768, 'backbone.net.blocks.11.norm1.bias': 768, 'backbone.net.blocks.11.attn': 2378624, 'backbone.net.blocks.11.attn.rel_pos_h': 8128, 'backbone.net.blocks.11.attn.rel_pos_w': 8128, 'backbone.net.blocks.11.attn.qkv': 1771776, 'backbone.net.blocks.11.attn.qkv.weight': 1769472, 'backbone.net.blocks.11.attn.proj': 590592, 'backbone.net.blocks.11.attn.proj.weight': 589824, 'backbone.net.blocks.11.attn.proj.bias': 768, 'backbone.net.blocks.11.norm2': 1536, 'backbone.net.blocks.11.norm2.weight': 768, 'backbone.net.blocks.11.norm2.bias': 768, 'backbone.net.blocks.11.mlp': 4722432, 'backbone.net.blocks.11.mlp.fc1': 2362368, 'backbone.net.blocks.11.mlp.fc1.weight': 2359296, 'backbone.net.blocks.11.mlp.fc1.bias': 3072, 'backbone.net.blocks.11.mlp.fc2': 2360064, 'backbone.net.blocks.11.mlp.fc2.weight': 2359296, 'backbone.net.blocks.11.mlp.fc2.bias': 768, 'backbone.simfp_2.0': 1180032, 'backbone.simfp_2.0.weight': 1179648, 'backbone.simfp_2.0.bias': 384, 'backbone.simfp_2.1': 768, 'backbone.simfp_2.1.weight': 384, 'backbone.simfp_2.1.bias': 384, 'backbone.simfp_2.3': 295104, 'backbone.simfp_2.3.weight': 294912, 'backbone.simfp_2.3.bias': 192, 'backbone.simfp_3.0': 1180032, 'backbone.simfp_3.0.weight': 1179648, 'backbone.simfp_3.0.bias': 384, 'backbone.net.blocks.0.attn.qkv.bias': 2304, 'backbone.net.blocks.1.attn.qkv.bias': 2304, 'backbone.net.blocks.2.attn.qkv.bias': 2304, 'backbone.net.blocks.3.attn.qkv.bias': 2304, 'backbone.net.blocks.4.attn.qkv.bias': 2304, 'backbone.net.blocks.5.attn.qkv.bias': 2304, 'backbone.net.blocks.6.attn.qkv.bias': 2304, 'backbone.net.blocks.7.attn.qkv.bias': 2304, 'backbone.net.blocks.8.attn.qkv.bias': 2304, 'backbone.net.blocks.9.attn.qkv.bias': 2304, 'backbone.net.blocks.10.attn.qkv.bias': 2304, 'backbone.net.blocks.11.attn.qkv.bias': 2304})\n"
     ]
    }
   ],
   "source": [
    "import pickle\n",
    "from collections import defaultdict\n",
    "import numpy as np\n",
    "\n",
    "# 打开.pkl文件\n",
    "with open(\"model_final_435fa9.pkl\", \"rb\") as f:\n",
    "    data = pickle.load(f)\n",
    "\n",
    "# 确保数据在'model'键下\n",
    "if 'model' in data:\n",
    "    model_data = data['model']\n",
    "else:\n",
    "    model_data = data\n",
    "\n",
    "count = defaultdict(int)\n",
    "\n",
    "for name, param in model_data.items():\n",
    "    # 计算NumPy数组中的元素数量\n",
    "    size = np.prod(param.shape)\n",
    "    name_parts = name.split('.')\n",
    "    for k in range(1, len(name_parts) + 1):\n",
    "        prefix = '.'.join(name_parts[:k])\n",
    "        count[prefix] += size\n",
    "    count[''] += size # 计算所有参数的总数\n",
    "# 将总参数数量转换为M单位\n",
    "total_params_million = count[''] / 1e6\n",
    "print(f\"总参数数量: {total_params_million:.2f}M\")\n",
    "print('\\n')\n",
    "print(count)  # 打印参数数量字典\n",
    "\n",
    "\n",
    "# total_params_without_dot = sum(size for key, size in count.items() if '.' not in key)\n",
    "# print('\\n')\n",
    "# total_params_million = total_params_without_dot / 1e6\n",
    "# print(f\"总参数数量: {total_params_million:.2f}M\")"
   ]
  },
  {
   "cell_type": "code",
   "execution_count": 49,
   "id": "a3b4871c-8918-49ac-beef-a7ad530b6304",
   "metadata": {},
   "outputs": [
    {
     "name": "stdout",
     "output_type": "stream",
     "text": [
      "module: 174.84M\n"
     ]
    }
   ],
   "source": [
    "import torch\n",
    "from collections import defaultdict\n",
    "\n",
    "# 加载.pth文件\n",
    "loaded_data = torch.load(\"groundingdino_swint_ogc.pth\")\n",
    "\n",
    "# 从加载的数据中获取模型的状态字典\n",
    "data = loaded_data['model']\n",
    "\n",
    "count = defaultdict(int)\n",
    "\n",
    "for name, param in data.items():\n",
    "    if isinstance(param, torch.Tensor):\n",
    "        size = torch.numel(param)  # 计算参数的元素数量\n",
    "        count[name] = size  # 直接存储该参数的大小\n",
    "\n",
    "# 如果您想要打印每个独立层级的参数总数，可以这样做\n",
    "unique_count = defaultdict(int)\n",
    "for name, size in count.items():\n",
    "    base_name = name.split('.')[0]  # 获取最顶层的层级名\n",
    "    unique_count[base_name] += size  # 累加每个最顶层层级的参数\n",
    "\n",
    "# 以百万（M）为单位打印参数总数\n",
    "for key, value in unique_count.items():\n",
    "    print(f\"{key}: {value / 1e6:.2f}M\")"
   ]
  },
  {
   "cell_type": "code",
   "execution_count": null,
   "id": "746f7962-f356-4c69-ad78-ef453f8fdf3b",
   "metadata": {},
   "outputs": [],
   "source": []
  }
 ],
 "metadata": {
  "kernelspec": {
   "display_name": "Python 3",
   "language": "python",
   "name": "python3"
  },
  "language_info": {
   "codemirror_mode": {
    "name": "ipython",
    "version": 3
   },
   "file_extension": ".py",
   "mimetype": "text/x-python",
   "name": "python",
   "nbconvert_exporter": "python",
   "pygments_lexer": "ipython3",
   "version": "3.8.8"
  }
 },
 "nbformat": 4,
 "nbformat_minor": 5
}
